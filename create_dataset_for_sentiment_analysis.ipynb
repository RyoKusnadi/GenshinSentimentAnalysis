{
 "cells": [
  {
   "cell_type": "markdown",
   "metadata": {
    "id": "To_vEWFURtMX"
   },
   "source": [
    "# Create a Dataset for Sentiment Analysis"
   ]
  },
  {
   "cell_type": "code",
   "execution_count": null,
   "metadata": {
    "id": "we0MhlUF_-uO"
   },
   "outputs": [],
   "source": [
    "!pip install -qq google-play-scraper"
   ]
  },
  {
   "cell_type": "code",
   "execution_count": null,
   "metadata": {
    "id": "1rxopHVPO-WO"
   },
   "outputs": [],
   "source": [
    "!pip install -qq -U watermark"
   ]
  },
  {
   "cell_type": "code",
   "execution_count": null,
   "metadata": {
    "colab": {
     "base_uri": "https://localhost:8080/"
    },
    "id": "NtL0sXa5PDsG",
    "outputId": "4ed92674-d4aa-4970-afec-e8a87fc75474"
   },
   "outputs": [
    {
     "name": "stdout",
     "output_type": "stream",
     "text": [
      "CPython 3.6.9\n",
      "IPython 5.5.0\n",
      "\n",
      "pandas 1.1.5\n",
      "matplotlib 3.2.2\n",
      "seaborn 0.11.0\n",
      "google_play_scraper 0.1.2\n"
     ]
    }
   ],
   "source": [
    "%reload_ext watermark\n",
    "%watermark -v -p pandas,matplotlib,seaborn,google_play_scraper"
   ]
  },
  {
   "cell_type": "code",
   "execution_count": null,
   "metadata": {
    "id": "KO_DkQb1AeSY"
   },
   "outputs": [],
   "source": [
    "import json\n",
    "import pandas as pd\n",
    "from tqdm import tqdm\n",
    "\n",
    "import seaborn as sns\n",
    "import matplotlib.pyplot as plt\n",
    "\n",
    "from pygments import highlight\n",
    "from pygments.lexers import JsonLexer\n",
    "from pygments.formatters import TerminalFormatter\n",
    "\n",
    "from google_play_scraper import Sort, reviews, app\n",
    "\n",
    "%matplotlib inline\n",
    "%config InlineBackend.figure_format='retina'\n",
    "\n",
    "sns.set(style='whitegrid', palette='muted', font_scale=1.2)"
   ]
  },
  {
   "cell_type": "code",
   "execution_count": null,
   "metadata": {
    "id": "AyooW6bBAIl6"
   },
   "outputs": [],
   "source": [
    "app_packages = [\n",
    "  'com.miHoYo.GenshinImpact',\n",
    "]"
   ]
  },
  {
   "cell_type": "markdown",
   "metadata": {
    "id": "EAxBAfyiZ-QC"
   },
   "source": [
    "## Scraping App Information"
   ]
  },
  {
   "cell_type": "code",
   "execution_count": null,
   "metadata": {
    "colab": {
     "base_uri": "https://localhost:8080/"
    },
    "id": "zusDZbd4AoOG",
    "outputId": "94b19d4e-d01f-4430-da87-4376f11c4be2"
   },
   "outputs": [
    {
     "name": "stderr",
     "output_type": "stream",
     "text": [
      "100%|██████████| 1/1 [00:00<00:00,  7.16it/s]\n"
     ]
    }
   ],
   "source": [
    "app_infos = []\n",
    "\n",
    "for ap in tqdm(app_packages):\n",
    "  info = app(ap, lang='en', country='us')\n",
    "  del info['comments']\n",
    "  app_infos.append(info)"
   ]
  },
  {
   "cell_type": "code",
   "execution_count": null,
   "metadata": {
    "id": "4n-vkhrZJPp_"
   },
   "outputs": [],
   "source": [
    "def print_json(json_object):\n",
    "  json_str = json.dumps(\n",
    "    json_object, \n",
    "    indent=2, \n",
    "    sort_keys=True, \n",
    "    default=str\n",
    "  )\n",
    "  print(highlight(json_str, JsonLexer(), TerminalFormatter()))"
   ]
  },
  {
   "cell_type": "code",
   "execution_count": null,
   "metadata": {
    "colab": {
     "base_uri": "https://localhost:8080/"
    },
    "id": "TI1s5NBAEl-X",
    "outputId": "7455718b-e6dc-4e5b-e233-396c4995e369"
   },
   "outputs": [
    {
     "name": "stdout",
     "output_type": "stream",
     "text": [
      "{\n",
      "  \u001b[94m\"adSupported\"\u001b[39;49;00m: \u001b[34mnull\u001b[39;49;00m,\n",
      "  \u001b[94m\"androidVersion\"\u001b[39;49;00m: \u001b[33m\"5.0\"\u001b[39;49;00m,\n",
      "  \u001b[94m\"androidVersionText\"\u001b[39;49;00m: \u001b[33m\"5.0 and up\"\u001b[39;49;00m,\n",
      "  \u001b[94m\"appId\"\u001b[39;49;00m: \u001b[33m\"com.miHoYo.GenshinImpact\"\u001b[39;49;00m,\n",
      "  \u001b[94m\"containsAds\"\u001b[39;49;00m: \u001b[34mfalse\u001b[39;49;00m,\n",
      "  \u001b[94m\"contentRating\"\u001b[39;49;00m: \u001b[33m\"Teen\"\u001b[39;49;00m,\n",
      "  \u001b[94m\"contentRatingDescription\"\u001b[39;49;00m: \u001b[33m\"Alcohol Reference, Fantasy Violence\"\u001b[39;49;00m,\n",
      "  \u001b[94m\"currency\"\u001b[39;49;00m: \u001b[33m\"USD\"\u001b[39;49;00m,\n",
      "  \u001b[94m\"description\"\u001b[39;49;00m: \u001b[33m\"Step into Teyvat, a vast world teeming with life and flowing with elemental energy.\\r\\n\\r\\nYou and your sibling arrived here from another world. Separated by an unknown god, stripped of your powers, and cast into a deep slumber, you now awake to a world very different from when you first arrived.\\r\\n\\r\\nThus begins your journey across Teyvat to seek answers from The Seven \\u2014 the gods of each element. Along the way, prepare to explore every inch of this wondrous world, join forces with a diverse range of characters, and unravel the countless mysteries that Teyvat holds...\\r\\n\\r\\nMASSIVE OPEN WORLD\\r\\n\\r\\nClimb any mountain, swim across any river, and glide over the world below, taking in the jaw-dropping scenery each step of the way. And if you stop to investigate a wandering Seelie or strange mechanism, who knows what you might discover?\\r\\n\\r\\nELEMENTAL COMBAT SYSTEM\\r\\n\\r\\nHarness the seven elements to unleash elemental reactions. Anemo, Electro, Hydro, Pyro, Cryo, Dendro, and Geo interact in all sorts of ways, and Vision wielders have the power to turn this to their advantage.\\r\\n\\r\\nWill you vaporize Hydro with Pyro, electro-charge it with Electro, or freeze it with Cryo? Your mastery of the elements will give you the upper hand in battle and exploration.\\r\\n\\r\\nBEAUTIFUL VISUALS\\r\\n\\r\\nFeast your eyes on the world around you, with a stunning art style, real-time rendering, and finely tuned character animations delivering you a truly immersive visual experience. Lighting and weather all change naturally over time, bringing every detail of this world to life.\\r\\n\\r\\nSOOTHING SOUNDTRACK\\r\\n\\r\\nLet the beautiful sounds of Teyvat draw you in as you explore the expansive world around you. Performed by the London Philharmonic Orchestra, the soundtrack changes seamlessly with the time and gameplay to match the mood.\\r\\n\\r\\nBUILD YOUR DREAM TEAM\\r\\n\\r\\nTeam up with a diverse cast of characters in Teyvat, each with their own unique personalities, stories, and abilities. Discover your favorite party combinations and level up your characters to help you conquer even the most daunting of enemies and domains.\\r\\n\\r\\nJOURNEY WITH FRIENDS\\r\\n\\r\\nPlay together with friends across various platforms to trigger more elemental action, tackle tricky boss fights, and conquer challenging domains together to reap rich rewards.\\r\\n\\r\\nAs you stand atop the peaks of Jueyun Karst and take in the rolling clouds and vast terrain stretching out before you, you may wish to stay in Teyvat a little longer... But until you are reunited with your lost sibling, how can you rest? Go forth, Traveler, and begin your adventure!\\r\\n\\r\\nSUPPORT\\r\\n\\r\\nIf you encounter any issues during the game, you can send us feedback via the in-game Customer Service Center.\\r\\nCustomer Service Email: genshin_cs@mihoyo.com\\r\\nOfficial Site: https://genshin.mihoyo.com/\\r\\nForums: https://forums.mihoyo.com/genshin/\\r\\nFacebook: https://www.facebook.com/Genshinimpact/\\r\\nInstagram: https://www.instagram.com/genshinimpact/\\r\\nTwitter: https://twitter.com/GenshinImpact\\r\\nYouTube: http://www.youtube.com/c/GenshinImpact \\r\\nDiscord: https://discord.gg/genshinimpact\\r\\nReddit: https://www.reddit.com/r/Genshin_Impact/\"\u001b[39;49;00m,\n",
      "  \u001b[94m\"descriptionHTML\"\u001b[39;49;00m: \u001b[33m\"Step into Teyvat, a vast world teeming with life and flowing with elemental energy.<br><br>You and your sibling arrived here from another world. Separated by an unknown god, stripped of your powers, and cast into a deep slumber, you now awake to a world very different from when you first arrived.<br><br>Thus begins your journey across Teyvat to seek answers from The Seven \\u2014 the gods of each element. Along the way, prepare to explore every inch of this wondrous world, join forces with a diverse range of characters, and unravel the countless mysteries that Teyvat holds...<br><br>MASSIVE OPEN WORLD<br><br>Climb any mountain, swim across any river, and glide over the world below, taking in the jaw-dropping scenery each step of the way. And if you stop to investigate a wandering Seelie or strange mechanism, who knows what you might discover?<br><br>ELEMENTAL COMBAT SYSTEM<br><br>Harness the seven elements to unleash elemental reactions. Anemo, Electro, Hydro, Pyro, Cryo, Dendro, and Geo interact in all sorts of ways, and Vision wielders have the power to turn this to their advantage.<br><br>Will you vaporize Hydro with Pyro, electro-charge it with Electro, or freeze it with Cryo? Your mastery of the elements will give you the upper hand in battle and exploration.<br><br>BEAUTIFUL VISUALS<br><br>Feast your eyes on the world around you, with a stunning art style, real-time rendering, and finely tuned character animations delivering you a truly immersive visual experience. Lighting and weather all change naturally over time, bringing every detail of this world to life.<br><br>SOOTHING SOUNDTRACK<br><br>Let the beautiful sounds of Teyvat draw you in as you explore the expansive world around you. Performed by the London Philharmonic Orchestra, the soundtrack changes seamlessly with the time and gameplay to match the mood.<br><br>BUILD YOUR DREAM TEAM<br><br>Team up with a diverse cast of characters in Teyvat, each with their own unique personalities, stories, and abilities. Discover your favorite party combinations and level up your characters to help you conquer even the most daunting of enemies and domains.<br><br>JOURNEY WITH FRIENDS<br><br>Play together with friends across various platforms to trigger more elemental action, tackle tricky boss fights, and conquer challenging domains together to reap rich rewards.<br><br>As you stand atop the peaks of Jueyun Karst and take in the rolling clouds and vast terrain stretching out before you, you may wish to stay in Teyvat a little longer... But until you are reunited with your lost sibling, how can you rest? Go forth, Traveler, and begin your adventure!<br><br>SUPPORT<br><br>If you encounter any issues during the game, you can send us feedback via the in-game Customer Service Center.<br>Customer Service Email: genshin_cs@mihoyo.com<br>Official Site: https://genshin.mihoyo.com/<br>Forums: https://forums.mihoyo.com/genshin/<br>Facebook: https://www.facebook.com/Genshinimpact/<br>Instagram: https://www.instagram.com/genshinimpact/<br>Twitter: https://twitter.com/GenshinImpact<br>YouTube: http://www.youtube.com/c/GenshinImpact <br>Discord: https://discord.gg/genshinimpact<br>Reddit: https://www.reddit.com/r/Genshin_Impact/\"\u001b[39;49;00m,\n",
      "  \u001b[94m\"developer\"\u001b[39;49;00m: \u001b[33m\"miHoYo Limited\"\u001b[39;49;00m,\n",
      "  \u001b[94m\"developerAddress\"\u001b[39;49;00m: \u001b[33m\"Room\\u00a01003,\\u00a010/F,\\u00a0Tower\\u00a01,\\u00a0Lippo\\u00a0Centre,\\u00a089\\u00a0Queensway,\\u00a0Admiralty,\\u00a0Hong\\u00a0Kong\"\u001b[39;49;00m,\n",
      "  \u001b[94m\"developerEmail\"\u001b[39;49;00m: \u001b[33m\"genshin_cs@mihoyo.com\"\u001b[39;49;00m,\n",
      "  \u001b[94m\"developerId\"\u001b[39;49;00m: \u001b[33m\"miHoYo+Limited\"\u001b[39;49;00m,\n",
      "  \u001b[94m\"developerInternalID\"\u001b[39;49;00m: \u001b[33m\"5473273828393352510\"\u001b[39;49;00m,\n",
      "  \u001b[94m\"developerWebsite\"\u001b[39;49;00m: \u001b[33m\"https://genshin.mihoyo.com/ja\"\u001b[39;49;00m,\n",
      "  \u001b[94m\"editorsChoice\"\u001b[39;49;00m: \u001b[34mtrue\u001b[39;49;00m,\n",
      "  \u001b[94m\"free\"\u001b[39;49;00m: \u001b[34mtrue\u001b[39;49;00m,\n",
      "  \u001b[94m\"genre\"\u001b[39;49;00m: \u001b[33m\"Adventure\"\u001b[39;49;00m,\n",
      "  \u001b[94m\"genreId\"\u001b[39;49;00m: \u001b[33m\"GAME_ADVENTURE\"\u001b[39;49;00m,\n",
      "  \u001b[94m\"headerImage\"\u001b[39;49;00m: \u001b[33m\"https://play-lh.googleusercontent.com/geupGYk6auZDlFpfExZ6TLPGA-lGRiA986bPLDlDoJozItayYXe8YodVpuyxd79cOlw\"\u001b[39;49;00m,\n",
      "  \u001b[94m\"histogram\"\u001b[39;49;00m: [\n",
      "    \u001b[34m59700\u001b[39;49;00m,\n",
      "    \u001b[34m18266\u001b[39;49;00m,\n",
      "    \u001b[34m36414\u001b[39;49;00m,\n",
      "    \u001b[34m92847\u001b[39;49;00m,\n",
      "    \u001b[34m814123\u001b[39;49;00m\n",
      "  ],\n",
      "  \u001b[94m\"icon\"\u001b[39;49;00m: \u001b[33m\"https://play-lh.googleusercontent.com/So91qs_eRRralMxUzt_tkj4aBXvVSYqWiEJrzrk_LBd5071mSMv_gBKslyulIOrPsiQ\"\u001b[39;49;00m,\n",
      "  \u001b[94m\"inAppProductPrice\"\u001b[39;49;00m: \u001b[33m\"$0.99 - $99.99 per item\"\u001b[39;49;00m,\n",
      "  \u001b[94m\"installs\"\u001b[39;49;00m: \u001b[33m\"10,000,000+\"\u001b[39;49;00m,\n",
      "  \u001b[94m\"minInstalls\"\u001b[39;49;00m: \u001b[34m10000000\u001b[39;49;00m,\n",
      "  \u001b[94m\"offersIAP\"\u001b[39;49;00m: \u001b[34mtrue\u001b[39;49;00m,\n",
      "  \u001b[94m\"originalPrice\"\u001b[39;49;00m: \u001b[34mnull\u001b[39;49;00m,\n",
      "  \u001b[94m\"price\"\u001b[39;49;00m: \u001b[34m0\u001b[39;49;00m,\n",
      "  \u001b[94m\"privacyPolicy\"\u001b[39;49;00m: \u001b[33m\"https://genshin.mihoyo.com/en/company/privacy\"\u001b[39;49;00m,\n",
      "  \u001b[94m\"ratings\"\u001b[39;49;00m: \u001b[34m1021350\u001b[39;49;00m,\n",
      "  \u001b[94m\"recentChanges\"\u001b[39;49;00m: \u001b[33m\"New Characters: Albedo and Ganyu\\r\\nNew Area: Dragonspine\\r\\nNew Event: The Chalk Prince and the Dragon\\r\\nNew Domain: Domain of Blessing - Peak of Vindagnyr\\r\\nNew Artifact Sets: Blizzard Strayer and Heart of Depth\\r\\n\\r\\n- Fixes some known bugs in the game.\\r\\n- Optimizes stability of the game client.\"\u001b[39;49;00m,\n",
      "  \u001b[94m\"recentChangesHTML\"\u001b[39;49;00m: \u001b[33m\"New Characters: Albedo and Ganyu<br>New Area: Dragonspine<br>New Event: The Chalk Prince and the Dragon<br>New Domain: Domain of Blessing - Peak of Vindagnyr<br>New Artifact Sets: Blizzard Strayer and Heart of Depth<br><br>- Fixes some known bugs in the game.<br>- Optimizes stability of the game client.\"\u001b[39;49;00m,\n",
      "  \u001b[94m\"released\"\u001b[39;49;00m: \u001b[33m\"Sep 26, 2020\"\u001b[39;49;00m,\n",
      "  \u001b[94m\"reviews\"\u001b[39;49;00m: \u001b[34m393050\u001b[39;49;00m,\n",
      "  \u001b[94m\"sale\"\u001b[39;49;00m: \u001b[34mfalse\u001b[39;49;00m,\n",
      "  \u001b[94m\"saleText\"\u001b[39;49;00m: \u001b[34mnull\u001b[39;49;00m,\n",
      "  \u001b[94m\"saleTime\"\u001b[39;49;00m: \u001b[34mnull\u001b[39;49;00m,\n",
      "  \u001b[94m\"score\"\u001b[39;49;00m: \u001b[34m4.5503244\u001b[39;49;00m,\n",
      "  \u001b[94m\"screenshots\"\u001b[39;49;00m: [\n",
      "    \u001b[33m\"https://play-lh.googleusercontent.com/GvRfapeRTB3u6qzeIJtV5gFdXrvsy42t_hZwkHlH8qqLz12FwKq10QyEjapjzoesHME\"\u001b[39;49;00m,\n",
      "    \u001b[33m\"https://play-lh.googleusercontent.com/yfRi9kW_-V639oVnZ2rxW8ypWXZzQXRFfbX-Qwc93XcNPywAy6SDm9gmBJwN0J17gMg\"\u001b[39;49;00m,\n",
      "    \u001b[33m\"https://play-lh.googleusercontent.com/D6d1IcJ-Vd9PILemz703RH46nBkV-mRNsB_kg4EzZbkVMZXRmurtyQrhTaLLqQ7P2cA\"\u001b[39;49;00m,\n",
      "    \u001b[33m\"https://play-lh.googleusercontent.com/SA5FbuKlAQsHmCOZ2tIfE6FR8x4d4igwidHcXz-Z2Zv7hPYHX2YRtRVnyb0ESsqOzQ\"\u001b[39;49;00m,\n",
      "    \u001b[33m\"https://play-lh.googleusercontent.com/r4YmxIYGs0cGrBxwYUUIZPTQaDSzfR1YZRnxfesC_WjNPOQ-9Dtc_2lJTMcodtGmz9w\"\u001b[39;49;00m,\n",
      "    \u001b[33m\"https://play-lh.googleusercontent.com/GSIPhvZa7RQhV0-VoBfi_qZIiLaiqKerxEaFd5DHCKiZwPqxPuBaaVfp7Lg3WhYNhpo\"\u001b[39;49;00m,\n",
      "    \u001b[33m\"https://play-lh.googleusercontent.com/-pVZQYBx9nSxIWQdiXJdf0X1Jy5Q1CGV4g0ZY8K39XvXie79L1Kg6Fnmw8Hx96THMIM\"\u001b[39;49;00m,\n",
      "    \u001b[33m\"https://play-lh.googleusercontent.com/3CwumfwcYdVq5bj0jC6Hjod5xLT7AlUugFIEVWkSqmVPP54w9mL271zYTwd73qxtvOU\"\u001b[39;49;00m,\n",
      "    \u001b[33m\"https://play-lh.googleusercontent.com/Q6nU6m-IIdf7Tgt5-E3dJ_-JFW9CouvAYlIeVhpWv1Ad65HjpN_jmDl-ZtJQGx9jqw\"\u001b[39;49;00m,\n",
      "    \u001b[33m\"https://play-lh.googleusercontent.com/WaBNf5AeP_iF1nubvrKH4ZiX-qBg6DooWMPA4kJ7fzu1XCVua34ER5TxXCY0yUQRzYvn\"\u001b[39;49;00m,\n",
      "    \u001b[33m\"https://play-lh.googleusercontent.com/wbIkGc-XUD_C6q_g3HqbEOrYaO8FunCSiDy_CeerhE_4QnjO7IPNNZ4jpLEWEkaCpxpx\"\u001b[39;49;00m,\n",
      "    \u001b[33m\"https://play-lh.googleusercontent.com/_3STQCr_EpnQUnttoGsTwRuM4TFSP3AE0mzHxp6kiNHHr6ervidbZ1KzjwA3wZXqGsSe\"\u001b[39;49;00m,\n",
      "    \u001b[33m\"https://play-lh.googleusercontent.com/dDE8vo-jptM1j8bNouU0QKr6HboSPKykfpD0-09dOKBMOauoCvRQjMMmDFR_ObVSnM0\"\u001b[39;49;00m,\n",
      "    \u001b[33m\"https://play-lh.googleusercontent.com/LvDaDt-oZAzFQVCFbM6Ue1gxVhqXCDup-FQrBZ5QdwTV_g6L1SSzfohe3l5XMgZxRA\"\u001b[39;49;00m,\n",
      "    \u001b[33m\"https://play-lh.googleusercontent.com/EdyhJL8F_WzsKToRXOmGfzOQZ4OyGfgAXMPoSaRunTmBW8F3apWWNjq_9x-X5AbZ1e4\"\u001b[39;49;00m,\n",
      "    \u001b[33m\"https://play-lh.googleusercontent.com/EAOJCop_vMewDn3mi7KvEwEP2q1ePH9nxBPPKkvmSzE5dpF8HxNfOnIActDtZ-tUBLs\"\u001b[39;49;00m,\n",
      "    \u001b[33m\"https://play-lh.googleusercontent.com/jG-bTK8dhZbke1wSa99caD9RT7qibyoOtSVUGoZWfiS_moi2mEczRhLvPw0p6FklPg\"\u001b[39;49;00m,\n",
      "    \u001b[33m\"https://play-lh.googleusercontent.com/tZfie9qR_LsyrrIvzwgbeDTemSRWifheMRwoVHvhadebgeWm6G4YyKrbP5mN00aXGg\"\u001b[39;49;00m,\n",
      "    \u001b[33m\"https://play-lh.googleusercontent.com/HAgoLXqyKyZWPQTJtFg_AoybOgjPIdDJwLMDbz8T8_hnrRGusL648UWLw_mbnA34iA\"\u001b[39;49;00m,\n",
      "    \u001b[33m\"https://play-lh.googleusercontent.com/LWfvC3o0YTUJiADu8fMgWmB9w-7bVncJ3wT8Z9wDD2LhlmCBae_rkn7x2rQM8LoOO5U\"\u001b[39;49;00m,\n",
      "    \u001b[33m\"https://play-lh.googleusercontent.com/0ScNpF6GDX3_s8NgC8k6mZkeeeOGM4cQQ4uCuesWvMqciecXWMJXpN-TT3oQ6jfCdA4\"\u001b[39;49;00m\n",
      "  ],\n",
      "  \u001b[94m\"size\"\u001b[39;49;00m: \u001b[33m\"328M\"\u001b[39;49;00m,\n",
      "  \u001b[94m\"summary\"\u001b[39;49;00m: \u001b[33m\"Explore a vast world of adventure in this all-new open-world title from miHoYo\"\u001b[39;49;00m,\n",
      "  \u001b[94m\"summaryHTML\"\u001b[39;49;00m: \u001b[33m\"Explore a vast world of adventure in this all-new open-world title from miHoYo\"\u001b[39;49;00m,\n",
      "  \u001b[94m\"title\"\u001b[39;49;00m: \u001b[33m\"Genshin Impact\"\u001b[39;49;00m,\n",
      "  \u001b[94m\"updated\"\u001b[39;49;00m: \u001b[34m1607682277\u001b[39;49;00m,\n",
      "  \u001b[94m\"url\"\u001b[39;49;00m: \u001b[33m\"https://play.google.com/store/apps/details?id=com.miHoYo.GenshinImpact&hl=en&gl=us\"\u001b[39;49;00m,\n",
      "  \u001b[94m\"version\"\u001b[39;49;00m: \u001b[33m\"1.2.0_1565149_1627898\"\u001b[39;49;00m,\n",
      "  \u001b[94m\"video\"\u001b[39;49;00m: \u001b[33m\"https://www.youtube.com/embed/QytOl_lghSY?ps=play&vq=large&rel=0&autohide=1&showinfo=0\"\u001b[39;49;00m,\n",
      "  \u001b[94m\"videoImage\"\u001b[39;49;00m: \u001b[33m\"https://i.ytimg.com/vi/QytOl_lghSY/hqdefault.jpg\"\u001b[39;49;00m\n",
      "}\n",
      "\n"
     ]
    }
   ],
   "source": [
    "print_json(app_infos[0])"
   ]
  },
  {
   "cell_type": "code",
   "execution_count": null,
   "metadata": {
    "colab": {
     "base_uri": "https://localhost:8080/",
     "height": 34
    },
    "id": "ni2zGSIIa6WT",
    "outputId": "18f6593a-9d88-42ae-96cf-dcfa07c1617c"
   },
   "outputs": [
    {
     "data": {
      "text/plain": [
       "<Figure size 1008x360 with 0 Axes>"
      ]
     },
     "metadata": {
      "tags": []
     },
     "output_type": "display_data"
    }
   ],
   "source": [
    "def format_title(title):\n",
    "  sep_index = title.find(':') if title.find(':') != -1 else title.find('-')\n",
    "  if sep_index != -1:\n",
    "    title = title[:sep_index]\n",
    "  return title[:10]\n",
    "\n",
    "fig, axs = plt.subplots(2, len(app_infos) // 2, figsize=(14, 5))\n",
    "\n",
    "for i, ax in enumerate(axs.flat):\n",
    "  ai = app_infos[i]\n",
    "  img = plt.imread(ai['icon'])\n",
    "  ax.imshow(img)\n",
    "  ax.set_title(format_title(ai['title']))\n",
    "  ax.axis('off')"
   ]
  },
  {
   "cell_type": "code",
   "execution_count": null,
   "metadata": {
    "id": "JJeUc7xjBxuq"
   },
   "outputs": [],
   "source": [
    "app_infos_df = pd.DataFrame(app_infos)\n",
    "app_infos_df.to_csv('apps.csv', index=None, header=True)"
   ]
  },
  {
   "cell_type": "markdown",
   "metadata": {
    "id": "mXqklWjwPLVv"
   },
   "source": [
    "## Scraping App Reviews"
   ]
  },
  {
   "cell_type": "code",
   "execution_count": null,
   "metadata": {
    "colab": {
     "base_uri": "https://localhost:8080/"
    },
    "id": "vRIID99ZCfjv",
    "outputId": "33987a45-28d8-434f-aa58-0e7d567d8bb1"
   },
   "outputs": [
    {
     "name": "stderr",
     "output_type": "stream",
     "text": [
      "100%|██████████| 1/1 [02:02<00:00, 122.78s/it]\n"
     ]
    }
   ],
   "source": [
    "app_reviews = []\n",
    "\n",
    "for ap in tqdm(app_packages):\n",
    "  for score in list(range(1, 6)):\n",
    "    for sort_order in [Sort.MOST_RELEVANT, Sort.NEWEST]:\n",
    "      rvs, _ = reviews(\n",
    "        ap,\n",
    "        lang='en',\n",
    "        country='us',\n",
    "        sort=sort_order,\n",
    "        count= 2000 if score == 3 else 1000,\n",
    "        filter_score_with=score\n",
    "      )\n",
    "      for r in rvs:\n",
    "        r['sortOrder'] = 'most_relevant' if sort_order == Sort.MOST_RELEVANT else 'newest'\n",
    "        r['appId'] = ap\n",
    "      app_reviews.extend(rvs)"
   ]
  },
  {
   "cell_type": "code",
   "execution_count": null,
   "metadata": {
    "id": "kbCQIB1zB6fP"
   },
   "outputs": [],
   "source": [
    "#from google.colab import drive\n",
    "#drive.mount('/content/drive')"
   ]
  },
  {
   "cell_type": "code",
   "execution_count": null,
   "metadata": {
    "colab": {
     "base_uri": "https://localhost:8080/"
    },
    "id": "tF5exqgWCh1Q",
    "outputId": "9a1efbea-2d59-49df-ce8c-20948a17504c"
   },
   "outputs": [
    {
     "name": "stdout",
     "output_type": "stream",
     "text": [
      "{\n",
      "  \u001b[94m\"appId\"\u001b[39;49;00m: \u001b[33m\"com.miHoYo.GenshinImpact\"\u001b[39;49;00m,\n",
      "  \u001b[94m\"at\"\u001b[39;49;00m: \u001b[33m\"2021-01-03 05:31:39\"\u001b[39;49;00m,\n",
      "  \u001b[94m\"content\"\u001b[39;49;00m: \u001b[33m\"The game is great. It's fun, unique, and the graphics are pretty impressive. The only issue is the lag I'm getting. I've tried reinstalling, playing with the graphic settings, everything but nothing changes the common freezing and severe frame rate issues I'm receiving on my Google pixel 3 XL. I want so bad for this to run smoothly. Will watch closely for updates. (Edit) several months have passed and so far no fix for any of this, nor have I seen anything hinting that they will work on it.\"\u001b[39;49;00m,\n",
      "  \u001b[94m\"repliedAt\"\u001b[39;49;00m: \u001b[34mnull\u001b[39;49;00m,\n",
      "  \u001b[94m\"replyContent\"\u001b[39;49;00m: \u001b[34mnull\u001b[39;49;00m,\n",
      "  \u001b[94m\"reviewCreatedVersion\"\u001b[39;49;00m: \u001b[33m\"1.2.0_1565149_1627898\"\u001b[39;49;00m,\n",
      "  \u001b[94m\"reviewId\"\u001b[39;49;00m: \u001b[33m\"gp:AOqpTOH_TJ35eN5SWpoOjKnyax0-5olqmu6AAa9aTdoeabbifZyZbRvsmFJ4-vC92Stk_5MWWfKTskqyVeaY5A\"\u001b[39;49;00m,\n",
      "  \u001b[94m\"score\"\u001b[39;49;00m: \u001b[34m1\u001b[39;49;00m,\n",
      "  \u001b[94m\"sortOrder\"\u001b[39;49;00m: \u001b[33m\"most_relevant\"\u001b[39;49;00m,\n",
      "  \u001b[94m\"thumbsUpCount\"\u001b[39;49;00m: \u001b[34m23\u001b[39;49;00m,\n",
      "  \u001b[94m\"userImage\"\u001b[39;49;00m: \u001b[33m\"https://play-lh.googleusercontent.com/a-/AOh14GgUCZTGW4olYWOUoJfk6gPYhPtOkxBZFClm1h77\"\u001b[39;49;00m,\n",
      "  \u001b[94m\"userName\"\u001b[39;49;00m: \u001b[33m\"Brannon Pipkins\"\u001b[39;49;00m\n",
      "}\n",
      "\n"
     ]
    }
   ],
   "source": [
    "print_json(app_reviews[0])"
   ]
  },
  {
   "cell_type": "code",
   "execution_count": null,
   "metadata": {
    "colab": {
     "base_uri": "https://localhost:8080/"
    },
    "id": "e2YjMDQDOdC5",
    "outputId": "1cc877d8-2e47-4000-8909-24dae0044555"
   },
   "outputs": [
    {
     "data": {
      "text/plain": [
       "53974"
      ]
     },
     "execution_count": 14,
     "metadata": {
      "tags": []
     },
     "output_type": "execute_result"
    }
   ],
   "source": [
    "len(app_reviews)"
   ]
  },
  {
   "cell_type": "markdown",
   "metadata": {
    "id": "K7FZVC0nOcJ9"
   },
   "source": [
    "to a CSV file:"
   ]
  },
  {
   "cell_type": "code",
   "execution_count": null,
   "metadata": {
    "id": "1L7Nq2uwCjRI"
   },
   "outputs": [],
   "source": [
    "app_reviews_df = pd.DataFrame(app_reviews)\n",
    "app_reviews_df.to_csv('reviews.csv', index=None, header=True)"
   ]
  }
 ],
 "metadata": {
  "colab": {
   "collapsed_sections": [],
   "name": "create-dataset-for-sentiment-analysis.ipynb",
   "provenance": [],
   "toc_visible": true
  },
  "kernelspec": {
   "display_name": "Python 3",
   "language": "python",
   "name": "python3"
  },
  "language_info": {
   "codemirror_mode": {
    "name": "ipython",
    "version": 3
   },
   "file_extension": ".py",
   "mimetype": "text/x-python",
   "name": "python",
   "nbconvert_exporter": "python",
   "pygments_lexer": "ipython3",
   "version": "3.8.5"
  }
 },
 "nbformat": 4,
 "nbformat_minor": 4
}
